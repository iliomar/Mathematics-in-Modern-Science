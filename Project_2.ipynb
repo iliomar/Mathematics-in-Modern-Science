{
  "nbformat": 4,
  "nbformat_minor": 0,
  "metadata": {
    "colab": {
      "provenance": []
    },
    "kernelspec": {
      "name": "python3",
      "display_name": "Python 3"
    },
    "language_info": {
      "name": "python"
    }
  },
  "cells": [
    {
      "cell_type": "markdown",
      "source": [
        "#MATE 4072, Proyecto 2\n",
        "Nombre: Iliomar Rodriguez Ramos\n",
        "\n",
        "\\# de estudiante: 802-18-5066"
      ],
      "metadata": {
        "id": "hoOAXYM7hwEI"
      }
    },
    {
      "cell_type": "markdown",
      "source": [
        "Los ejercicios 1 al 3 se refieren a los vídeos de Khan Academy sobre proyecciones ortogonales."
      ],
      "metadata": {
        "id": "qUE58UEMS4dj"
      }
    },
    {
      "cell_type": "markdown",
      "source": [
        "#Ejercicios 1-3"
      ],
      "metadata": {
        "id": "Skypn-zyh8lW"
      }
    },
    {
      "cell_type": "markdown",
      "source": [
        "Después de ver los videos:\n",
        "\n",
        "1. ¿Puedes deducir la fórmula de proyección ortogonal sobre el span de un conjunto de vectores linealmente independientes?\n",
        "\n",
        "\n",
        "Si, para deducir la fórmula de proyección ortogonal sobre el span de un conjunto de vectores linealmente independientes\n",
        "tenemos que\n",
        "\n",
        "\\\n",
        "\n",
        "$\\hspace{17em}proj_{v}\\vec{x} = A\\vec{y}$\n",
        "\n",
        "\n",
        "\\\n",
        "\n",
        "donde $A$ es la matriz base de los vectores $\\vec{v}$, $v$ es un subespacio de $\\mathbb R^{n}$, y $\\vec{y}$ y $\\vec{x}$ son cualquier vector.\n",
        "\n",
        "\\\n",
        "\n",
        "Sea {$v_{1}, v_{2}, \\cdots, v_{n}$} un conjunto base de vectores l.i. del subespacio $v$, compuesto de vectores l.i. $a_{1}x_{1} + a_{2}x_{2}+ \\cdots + a_{n}x_{n} = 0$.\n",
        "\n",
        "\\\n",
        "\n",
        "Ahora se debe hallar una base ortogonal para asi lograr aproximar la proyeccion ortogonal.\n",
        "\n",
        "\\\n",
        "\n",
        "Por lo tanto, $x = proy_{v}(\\vec{x})$ esta en un espacio nulo de $A^{T}$ por lo que el factor  de $A^{T}$ se distribuye, obteniendo asi\n",
        "\n",
        "\\\n",
        "\n",
        "$\\hspace{17em}A^{T}\\vec{x}-A^{T}A\\vec{y} = 0$\n",
        "\n",
        "\\\n",
        "\n",
        "Debido a que $A^{T}A$ es invertible, pues sus columnas son l.i., se pueden multiplicar por el inverso ambos lados obteniendo\n",
        "\n",
        "\\\n",
        "\n",
        "$\\vec{y} = (A^{T}A)^{-1}A^{T}\\vec{x}$\n",
        "\n",
        "\\\n",
        "\n",
        "\\\n",
        "\n",
        "Por lo tanto, la formula de la proyeccion ortogonal sobre el span $v$ de un conjunto de vectores l.i. es\n",
        "\n",
        "\\\n",
        "\n",
        "$proj_{v}(\\vec{x}) = A(A^{T}A)^{-1}A^{T}\\vec{x}$\n",
        "\n",
        "\\\n",
        "\n",
        "Donde $A(A^{T}A)^{-1}A^{T}$ es la formula de la proyeccion estandar de la matriz dentro de algun subespacio $v$ donde ese subespacio $v$ se pueden poner sus vectores bases como la columna de alguna matriz.\n",
        "\n",
        "\\\n",
        "\n",
        "\\\n",
        "\n",
        "2. ¿Puedes mostrar cual es la relación entre la idea de proyección ortogonal y la solución de mínimos cuadrados de $A\\vec{x}=\\vec{b}$?\n",
        "\n",
        "\\\n",
        "\n",
        "\\\n",
        "\n",
        "Si, sea $A = \\left[\\begin{array}{rrrr}\n",
        "A_{1} & A_{2} & \\cdots & A_{k}\\\\\n",
        "\\end{array}\\right], \\vec{x} = \\left[\\begin{array}{rrr}\n",
        "x_{1}\\\\\n",
        "x_{2}\\\\\n",
        "\\vdots\\\\\n",
        "x_{k}\n",
        "\\end{array}\\right]$\n",
        "\n",
        "\\\n",
        "\n",
        "Se tiene que debido a que $A\\vec{x}=\\vec{b}$ la forma matricial es\n",
        "\n",
        "\\\n",
        "\n",
        "$\\hspace{14em}\\left[\\begin{array}{rrrr}\n",
        "A_{1} & A_{2} & \\cdots & A_{k}\\\\\n",
        "\\end{array}\\right]\\cdot \\left[\\begin{array}{rrr}\n",
        "x_{1}\\\\\n",
        "x_{2}\\\\\n",
        "\\vdots\\\\\n",
        "x_{k}\n",
        "\\end{array}\\right] = \\vec{b}$\n",
        "\n",
        "\\\n",
        "\n",
        "Si se resuleve $A\\vec{x}=\\vec{b}$ con ciertos puntos dados, y no se encuentra ninguna solucion (es decir, $\\vec{b}$ no se encuentra en el espacio columna de $A$), entonces se utiliza una aproximacion que se acerque a $\\vec{b}$. Para eso $\\vec{x}^{*}$(solucion de minimos cuadrados) se multiplica por la matriz $A$ se optimiza la distancia desde $\\vec{x}^{*}$ hasta $\\vec{b}$. Entonces en vez de $A\\vec{x}=\\vec{b}$ se reescribe a la siguiente ecuacion\n",
        "\n",
        "\\\n",
        "\n",
        "$\\hspace{17em} A\\vec{x}^{*} = proj_{c(A)}\\vec{b}$.\n",
        "\n",
        "\\\n",
        "\n",
        "Si se resta $\\vec{b}$ a ambos lados de la ecuacion anterior se obtiene\n",
        "$A\\vec{x}^{*} - \\vec{b}$, esto se encuentra en el espacio nulo de $A^{T}$. Ahora si se multiplica ambos lados por la matriz transpuesta $A^{T}$ se tiene\n",
        "\n",
        "\\\n",
        "\n",
        "$\\hspace{17em} A^{T}A\\vec{x}^{*} = A^{T}\\vec{b}$\n",
        "\n",
        "\\\n",
        "\n",
        "$\\vec{x}$ es una solución del problema de mínimos cuadrados si y sólo si $A\\vec{x}$ es la proyección ortogonal de $\\vec{b}$ sobre $R(A)$. Claramente, tal $\\vec{x}$ existe. Si $x_{1}$ y $x_{2}$ son dos soluciones, entonces $A\\vec{x}_{1}=A\\vec{x}_{2} \\longrightarrow A(\\vec{x}_{1}-\\vec{x}_{2})=0$.\n",
        "\n",
        "\\\n",
        "\n",
        "\\\n",
        "\n",
        "3. ¿Puedes aplicar estas ideas a encontrar la cuadrática de mejor ajuste a un conjunto de puntos en el plano? \n",
        "\n",
        "\\\n",
        "\n",
        "\n",
        "Si, sabemos que la formula cuadratica es $y = ax^{2}+bx+c$.\n",
        "\n",
        "\\\n",
        "\n",
        "Sean los puntos $(x_{i}, y_{i})$, entonces\n",
        "\n",
        "$\\hspace{10em}\\left[\\begin{array}{rrr}\n",
        "x^{2}_{1} & x_{1} & 1\\\\\n",
        "x^{2}_{2} & x_{2} & 1\\\\\n",
        "\\vdots & \\vdots & \\vdots\\\\\n",
        "x^{2}_{k} & x_{k} & 1\n",
        "\\end{array}\\right]\\left[\\begin{array}{rrr}\n",
        "a\\\\\n",
        "b\\\\\n",
        "c\\\\\n",
        "\\vdots\n",
        "\\end{array}\\right] = \\left[\\begin{array}{rrr}\n",
        "y_{1}\\\\\n",
        "y_{2}\\\\\n",
        "\\vdots\\\\\n",
        "y_{k}\n",
        "\\end{array}\\right]$\n",
        "\n",
        "\\\n",
        "\n",
        "Ahora, en la ecuacion del ejercicio $2$, $A^{T}A\\vec{x}^{*} = A^{T}\\vec{b}$, se sustituyen las matrices correspondientes y se resolve la ecuacion, donde los coeficientes $a$, y $b$ son de la matriz $A$ y $c$ van a ser $1$. La ecuacion cuadratica que mejor se ajusta esta dada por la solucion de minimos cuadrados, esta es\n",
        "\n",
        "\\\n",
        "\n",
        "$\\hspace{17em}A\\vec{x} = \\vec{b}$"
      ],
      "metadata": {
        "id": "cCUlaLcpTIXk"
      }
    },
    {
      "cell_type": "markdown",
      "source": [
        "#Ejercicio 4"
      ],
      "metadata": {
        "id": "glQzvI0qiWVk"
      }
    },
    {
      "cell_type": "markdown",
      "source": [
        "En la lectura titulada *Proyecciones ortogonales y mínimos cuadrados* se pide que se demuestren tres cosas. Incluya sus demostraciones aquí.\n",
        "\n",
        "(a) Demostrar que $P$ es simetrica\n",
        "\n",
        "\\\n",
        "\n",
        "Para demostrar que $P$ es simetrica, se puede multiplicar la transpuesta en orden reverso y utilizar la identidad $(A^{-1})^{T} = (A^{T})^{-1}$, similar a obtener la inversa. Para esto\n",
        "\n",
        "\\\n",
        "\n",
        "$P^{T} = (A^{T})^{T}((A^{T}A)^{-1})^{T}A^{T} = A((A^{T}A)^{T})^{-1}A^{T} = A(A^{T}A)^{-1}A^{T} = P$\n",
        "\n",
        "\\\n",
        "\n",
        "$\\therefore$ Esto prueba que $P$ es simetrica.\n",
        "\n",
        "\\\n",
        "\n",
        "Otra forma mas geometrica, es imaginando cualquier vector $\\vec{a}$ y $\\vec{b}$. Si $\\vec{a}$ es proyectado de la manera usual entonces produce $P\\vec{a}$, y $\\vec{b}$ es proyectado sobre la ortogonal complementada para producir $(I-P)\\vec{b}$, entonces estas dos proyecciones son perpendiculares,\n",
        "\n",
        "$(P\\vec{a})^{T}(I-P)\\vec{b} = a^{T}P^{T}(I-P)\\vec{b} = 0$\n",
        "\n",
        "\\\n",
        "\n",
        "Como esto esto es cierto para cada $\\vec{a}$ y $\\vec{b}$, entonces se tiene que\n",
        "\n",
        "$P^{T}(I-P) = 0 \\longrightarrow P^{T}=P^{T}P \\longrightarrow P = (P^{T}P)^{T} = P^{T}P$\n",
        "\n",
        "Por lo tanto, $P^{T} = P$, siendo $P$ simetrica.\n",
        "\n",
        "\\\n",
        "\n",
        "===============================================================================\n",
        "\n",
        "\\\n",
        "\n",
        "\n",
        "(b) Demostrar que $P$ es idempotente\n",
        "\n",
        "Elevanto al cuadrado $P$ se puede demostrar que este es idempotente, de la siguiente manera,\n",
        "\n",
        "\\\n",
        "\n",
        "$P^{2} = (A(A^{T}A)^{-1}A^{T})^{2} = (A(A^{T}A)^{-1}A^{T})\\cdot(A(A^{T}A)^{-1}A^{T}) = A(A^{T}A)^{-1}A^{T} = P$\n",
        "\n",
        "\\\n",
        "\n",
        "Por lo tanto, es idempotente.\n",
        "\n",
        "Geometricamente se puede ver que $P$ es idempotente mas simple, pues suponiendo que cualquier $\\vec{a}$, el vector $P\\vec{a}$ se encuentre en el subespacio sobre el que se esta proyectando, por lo que se produce $P(P\\vec{a})$, y se queda igual, el vector ya esta en el subespacio, y $P\\vec{a} = P^{2}\\vec{a}$ para cada $\\vec{a}$\n",
        "\n",
        "\\\n",
        "\n",
        "=============================================================================\n",
        "\n",
        "\\\n",
        "\n",
        "\\\n",
        "\n",
        "(c) Demostrar que $P$ es ortogonal, es decir, $(\\vec{b}-A\\vec{x})^{T}(Az) = 0$ para cualquier $z \\in R^{m}$\n",
        "\n",
        "\\\n",
        "\n",
        "De las demostraciones anteriores, se sabe que $P$ es simetrica e idempotente, y se ha deducido que $P$ es una matriz de proyeccion sobre su espacio columna.\n",
        "\n",
        "\\\n",
        "\n",
        "Sabemos que $A\\vec{x} = A(A^{T}A)^{-1}A^{T}\\vec{b} = P\\vec{b}$, por lo que sustituyendo esto en la ecuacion se obtiene\n",
        "\n",
        "\\\n",
        "\n",
        "$(\\vec{b}-A(A^{T}A)^{-1}A^{T}\\vec{b})^{T}(Az) = 0$\n",
        "\n",
        "Sacando el factor comun $\\vec{b}$ se llega a la conclusion de que \n",
        "\n",
        "\n",
        "$\\vec{b}^{T}(I-\\frac{AA^{T}}{A^{T}A})Az ⟶\\vec{b}(I - 1)Az ⟶\\vec{b}(A - A)\\vec{z} = 0$\n",
        "\n",
        "\\\n",
        "\n",
        "$\\therefore$ La proyeccion es ortogonal.\n",
        "\n"
      ],
      "metadata": {
        "id": "9N-GSOr7VyAz"
      }
    },
    {
      "cell_type": "markdown",
      "source": [
        "#Ejercicio 5"
      ],
      "metadata": {
        "id": "mG3qCXSHiW33"
      }
    },
    {
      "cell_type": "markdown",
      "source": [
        "Explique como usar las ideas anteriores para encontrar la linea de mejor ajuste (por mínimos cuadrados), el polinomio de grado $n$ de mejor ajuste, y la curva exponencial ($y=ae^{bx}$) de mejor ajuste a una colección de puntos o datos en el plano.\n",
        "\n",
        "\n",
        "(a) Linea de mejor ajuste (por minimos cuadrados).\n",
        "\n",
        "\\\n",
        "\n",
        "Para encontrar la linea de ajuste estare demostrando como se hace llevando acabo un simple ejemplo\n",
        "\n",
        "\\\n",
        "\n",
        "\n",
        "Sabemos que la ecuacion de una recta es $y = mx + b$, por lo tanto, digamos que tenemos 3 puntos, estos son $(1, 6)$, $(3, 2)$, y $(7, 2)$\n",
        "\n",
        "Si los 3 puntos estuvieran en la misma linea, entonces el par ordenado satisfará el siguiente sistema de ecuaciones\n",
        "\n",
        "\\\n",
        "\n",
        "$6 = 1m+b ⟶ m+b = 6$\n",
        "\n",
        "$2 = 3m+b ⟶ 3m+b = 2$\n",
        "\n",
        "$2 = 7m+b ⟶ 7m+b = 2$\n",
        "\n",
        "\\\n",
        "\n",
        "Ahora se escribe de forma matricial de la siguiente manera,\n",
        "\n",
        "$A\\vec{x} = \\vec{b}$, donde\n",
        "\n",
        "\\\n",
        "\n",
        "$A = \\left[\\begin{array}{rr}\n",
        "1 & 1\\\\\n",
        "3 & 1\\\\\n",
        "7 & 1\n",
        "\\end{array}\\right], \\vec{x} = \\left[\\begin{array}{r}\n",
        "m\\\\\n",
        "b\n",
        "\\end{array}\\right], \\vec{b} = \\left[\\begin{array}{r}\n",
        "6\\\\\n",
        "2\\\\\n",
        "2\n",
        "\\end{array}\\right]$\n",
        "\n",
        "Sin embargo, tambien se sabe que los tres puntos no pueden estar en la misma linea. Por lo que se debe verificar que el sistema de ecuaciones no tiene solucion.\n",
        "\n",
        "\n",
        "\\\n",
        "\n",
        "Utilizando la solucion de minimos cuadrados se puede aproximar. Para esto, se calcula $A^{T}A$ y $A\\vec{b}$, luego se forma una matriz aumentada para la ecuacion matricial $A^{T}A\\vec{x} = A^{T}\\vec{b}$, siendo la solucion final la solucion de minimos cuadrados.\n",
        "\n",
        "\\\n",
        "\n",
        "$A^{T} = \\left[\\begin{array}{rrr}\n",
        "1 & 3 & 7\\\\\n",
        "1 & 1 & 1\n",
        "\\end{array}\\right]$\n",
        "$\\hspace{4em}A^{T}A = \\left[\\begin{array}{rrr}\n",
        "1 & 3 & 7\\\\\n",
        "1 & 1 & 1\n",
        "\\end{array}\\right]\\left[\\begin{array}{rr}\n",
        "1 & 1\\\\\n",
        "3 & 1\\\\\n",
        "7 & 1\n",
        "\\end{array}\\right] = \\left[\\begin{array}{rr}\n",
        "59 & 11\\\\\n",
        "11 & 3\n",
        "\\end{array}\\right]$\n",
        "\n",
        "\\\n",
        "\n",
        "$A^{T}\\vec{b} = \\left[\\begin{array}{rrr}\n",
        "1 & 3 & 7\\\\\n",
        "1 & 1 & 1\n",
        "\\end{array}\\right]\\left[\\begin{array}{r}\n",
        "6\\\\\n",
        "2\\\\\n",
        "2\n",
        "\\end{array}\\right] = \\left[\\begin{array}{r}\n",
        "26\\\\\n",
        "10\n",
        "\\end{array}\\right]$\n",
        "\n",
        "\\\n",
        "\n",
        "Ya que $A^{T}A\\vec{x} = A^{T}\\vec{b}$ entonces \n",
        "\n",
        "\\\n",
        "\n",
        "$\\left[\\begin{array}{rr}\n",
        "59 & 11\\\\\n",
        "11 & 3\n",
        "\\end{array}\\right]\\left[\\begin{array}{r}\n",
        "m\\\\\n",
        "b\n",
        "\\end{array}\\right] = \\left[\\begin{array}{r}\n",
        "26\\\\\n",
        "10\n",
        "\\end{array}\\right]$\n",
        "\n",
        "\\\n",
        "\n",
        "$\\left[\\begin{array}{rrr}\n",
        "59 & 11 & 26\\\\\n",
        "11 & 3 & 10\n",
        "\\end{array}\\right] ⟶ \\left[\\begin{array}{rrr}\n",
        "1 & 0 & -\\frac{4}{7}\\\\\n",
        "0 & 1 & \\frac{38}{7}\n",
        "\\end{array}\\right]$\n",
        "\n",
        "\\\n",
        "\n",
        "Por lo tanto, la linea de mejor ajuste es $y = -\\frac{4}{7}+\\frac{38}{7}$\n",
        "\n",
        "\\\n",
        "\n",
        "Resumen: \n",
        "\n",
        "Para obtener la linea de mejor ajuste (con solucion de minimos cuadrados) simplemente se calcula $A^{T}A$ y $A\\vec{b}$, y ya que $A^{T}A\\vec{x} = A^{T}\\vec{b}$,  se le aplica la ecuacion de un linea, obteniendo asi la linea de mejor ajuste.\n",
        "\n",
        "\\\n",
        "\n",
        "\\\n",
        "\n",
        "===============================================================================\n",
        "\n",
        "(b) Polinomio de grado $n$ de mejor ajuste.\n",
        "\n",
        "Sabemos que un polinomio de $n$ es: $a_{0}+a_{1}x+a_{2}x^{2}+\\cdots+a_{n}x^{n}$\n",
        "\n",
        "\\\n",
        "\n",
        "Sean los puntos ($x_{1}, y_{1}$), ($x_{2}, y_{2}$), $\\cdots$, ($x_{m}, y_{m}$), entonces la matriz seria,\n",
        "\n",
        "\\\n",
        "\n",
        "$A = \\left[\\begin{array}{rrrrr}\n",
        "1 & x_{1} & x_{1}^{2} & \\cdots & x_{1}^{n}\\\\\n",
        "1 & x_{2} & x_{2}^{2} & \\cdots & x_{2}^{n}\\\\\n",
        "\\vdots & \\vdots & \\vdots & \\vdots & \\vdots\\\\\n",
        "1 & x_{m} & x_{m}^{2} & \\cdots & x_{m}^{n}\n",
        "\\end{array}\\right], \\vec{x} = \\left[\\begin{array}{r}\n",
        "a_{0}\\\\\n",
        "a_{1}\\\\\n",
        "\\vdots\\\\\n",
        "a_{n}\n",
        "\\end{array}\\right], \\vec{b} = \\left[\\begin{array}{r}\n",
        "y_{0}\\\\\n",
        "y_{1}\\\\\n",
        "\\vdots\\\\\n",
        "y_{m}\n",
        "\\end{array}\\right]$\n",
        "\n",
        "\\\n",
        "\n",
        "Ya que $A\\vec{x} = \\vec{b}$, se tiene\n",
        "\n",
        "\\\n",
        "\n",
        "$\\left[\\begin{array}{rrrrr}\n",
        "1 & x_{1} & x_{1}^{2} & \\cdots & x_{1}^{n}\\\\\n",
        "1 & x_{2} & x_{2}^{2} & \\cdots & x_{2}^{n}\\\\\n",
        "\\vdots & \\vdots & \\vdots & \\vdots & \\vdots\\\\\n",
        "1 & x_{m} & x_{m}^{2} & \\cdots & x_{m}^{n}\n",
        "\\end{array}\\right]\\cdot \\left[\\begin{array}{r}\n",
        "a_{0}\\\\\n",
        "a_{1}\\\\\n",
        "\\vdots\\\\\n",
        "a_{n}\n",
        "\\end{array}\\right] = \\left[\\begin{array}{r}\n",
        "y_{0}\\\\\n",
        "y_{1}\\\\\n",
        "\\vdots\\\\\n",
        "y_{m}\n",
        "\\end{array}\\right]$\n",
        "\n",
        "\\\n",
        "\n",
        "\\\n",
        "\n",
        "Como $A^{T}A\\vec{x} = A^{T}\\vec{b}$, donde $\\vec{x} = (A^{T}A)^{-1}A^{T}b$, sustituyendo los puntos en esa ecuacion se pueden hallar los coeficientes del polinomio de grado $n$ de mejor ajuste.\n",
        "\n",
        "\\\n",
        "\n",
        "\\\n",
        "\n",
        "================================================================================\n",
        "\n",
        "(c) Curva exponencial ($y = ae^{bx}$) de mejor ajuste a una coleccion de puntos o datos en el plano.\n",
        "\n",
        "\\\n",
        "\n",
        "Para hallar la curva exponencial de mejor ajuste, se puede aplica el logaritmo natural $ln$ a ambos lados de la ecuacion exponencial, esto es \n",
        "\n",
        "\\\n",
        "\n",
        "$y = ae^{bx} ⟶ ln\\left(\\frac{y}{a}\\right) = bx ⟶ ln(y) - ln(a) = bx$\n",
        "\n",
        "\\\n",
        "\n",
        "Ahora se despeja para $ln(y)$\n",
        "\n",
        "\n",
        "$ln(y) = ln(a) + bx$\n",
        "\n",
        "\\\n",
        "\n",
        "\\\n",
        "\n",
        "Nuevamente se utiliza $A\\vec{x} = \\vec{b}$, donde\n",
        "\n",
        "\\\n",
        "\n",
        "$A = \\left[\\begin{array}{rr}\n",
        "1 & x_{1}\\\\\n",
        "1 & x_{2}\\\\\n",
        "\\vdots & \\vdots\\\\\n",
        "1 & x_{n}\n",
        "\\end{array}\\right], \\vec{x} = \\left[\\begin{array}{r}\n",
        "ln(a)\\\\\n",
        "ln(b)\n",
        "\\end{array}\\right], $ y $\\vec{b} = \\left[\\begin{array}{r}\n",
        "ln(y_{1})\\\\\n",
        "ln(x_{2})\\\\\n",
        "\\vdots\\\\\n",
        "ln(x_{n})\n",
        "\\end{array}\\right]$\n",
        "\n",
        "\n",
        "\\\n",
        "\n",
        "\\\n",
        "\n",
        "Finalmente poniendolo de la forma $A\\vec{x} = \\vec{b}$ se tiene\n",
        "\n",
        "\\\n",
        "\n",
        "$\\left[\\begin{array}{rr}\n",
        "1 & x_{1}\\\\\n",
        "1 & x_{2}\\\\\n",
        "\\vdots & \\vdots\\\\\n",
        "1 & x_{n}\n",
        "\\end{array}\\right]\\cdot \\left[\\begin{array}{r}\n",
        "ln(a)\\\\\n",
        "ln(b)\n",
        "\\end{array}\\right] = \\left[\\begin{array}{r}\n",
        "ln(y_{1})\\\\\n",
        "ln(x_{2})\\\\\n",
        "\\vdots\\\\\n",
        "ln(x_{n})\n",
        "\\end{array}\\right]$\n",
        "\n",
        "De esta forma y utilizando la solucion de minimos cuadrados $A^{T}A\\vec{x} = A^{T}\\vec{b}$, se puede calcular los coeficientes para asi hallar la curva exponencial de mejor ajuste.\n"
      ],
      "metadata": {
        "id": "EZu0hH8JS3G2"
      }
    },
    {
      "cell_type": "markdown",
      "source": [
        "#Ejercicio 6"
      ],
      "metadata": {
        "id": "pI3RjIODXEHi"
      }
    },
    {
      "cell_type": "markdown",
      "source": [
        "Usando Python, encuentre (a) la línea de mejor ajuste, (b) la cuadrática de mejor ajuste y (c) la exponencial de mejor ajuste a los datos de hospitalización de adultos por COVID en PR del 15 al 31 de diciembre de 2021, dados [aquí](https://rconnect.dfci.harvard.edu/covidpr/). Grafique los datos y las tres curvas de mejor ajuste. Discuta las virtudes y defectos de cada modelo y su utilidad para \"predecir\" hospitalizaciones futuras (después del 31 de diciembre).\n",
        "\n",
        "NOTA: Los datos los puede descargar de la pestaña de datos diarios."
      ],
      "metadata": {
        "id": "s5n1t4OXXFt5"
      }
    },
    {
      "cell_type": "code",
      "source": [
        "import pandas as pd\n",
        "\n",
        "df = pd.read_csv('datos_covid.csv', delimiter=',') # también se puede usar la función read_table\n",
        "\n",
        "print(df)"
      ],
      "metadata": {
        "colab": {
          "base_uri": "https://localhost:8080/"
        },
        "id": "5bO29ortoOel",
        "outputId": "250c8790-94c1-494e-e59d-2eb2af744ea4"
      },
      "execution_count": null,
      "outputs": [
        {
          "output_type": "stream",
          "name": "stdout",
          "text": [
            "          date  tests_rate  ...  total_vaccinations  total_distributed\n",
            "0   11/21/2021    0.025325  ...             5086904            5250140\n",
            "1   11/22/2021    0.024026  ...             5086904            5250140\n",
            "2   11/23/2021    0.020400  ...             5325966            5939820\n",
            "3   11/24/2021    0.022750  ...             5335589            6008940\n",
            "4   11/25/2021    0.023245  ...             5335589            6008940\n",
            "..         ...         ...  ...                 ...                ...\n",
            "85   2/14/2022    0.094063  ...             6770469            7211170\n",
            "86   2/15/2022    0.083584  ...             6773298            7217870\n",
            "87   2/16/2022    0.076636  ...             6803107            7221770\n",
            "88   2/17/2022    0.072148  ...             6819899            7254790\n",
            "89   2/18/2022    0.071818  ...             6820017            7262790\n",
            "\n",
            "[90 rows x 24 columns]\n"
          ]
        }
      ]
    },
    {
      "cell_type": "code",
      "source": [
        "print(df.columns)"
      ],
      "metadata": {
        "colab": {
          "base_uri": "https://localhost:8080/"
        },
        "id": "g_ixOdq3oOaZ",
        "outputId": "c15f0c9b-f371-4d9a-c162-0f37ac38ceb4"
      },
      "execution_count": null,
      "outputs": [
        {
          "output_type": "stream",
          "name": "stdout",
          "text": [
            "Index(['date', 'tests_rate', 'tests_rate_lower', 'tests_rate_upper',\n",
            "       'tests_rate_daily', 'tests_rate_daily_lower', 'tests_rate_daily_upper',\n",
            "       'cases_rate', 'cases_rate_lower', 'cases_rate_upper',\n",
            "       'cases_rate_daily', 'cases_rate_daily_lower', 'cases_rate_daily_upper',\n",
            "       'mort', 'icu', 'hosp', 'cases', 'cases_week_avg', 'positives', 'tests',\n",
            "       'people_vaccinated', 'people_fully_vaccinated', 'total_vaccinations',\n",
            "       'total_distributed'],\n",
            "      dtype='object')\n"
          ]
        }
      ]
    },
    {
      "cell_type": "code",
      "source": [
        "df_new = df[['date','hosp']] [24:41]\n",
        "print(df_new)"
      ],
      "metadata": {
        "colab": {
          "base_uri": "https://localhost:8080/"
        },
        "id": "kKFggyo-oOQa",
        "outputId": "c1d5dc59-335d-48a6-cfbb-c5a48e2b443b"
      },
      "execution_count": null,
      "outputs": [
        {
          "output_type": "stream",
          "name": "stdout",
          "text": [
            "          date  hosp\n",
            "24  12/15/2021    52\n",
            "25  12/16/2021    49\n",
            "26  12/17/2021    49\n",
            "27  12/18/2021    47\n",
            "28  12/19/2021    43\n",
            "29  12/20/2021    53\n",
            "30  12/21/2021    67\n",
            "31  12/22/2021    89\n",
            "32  12/23/2021   111\n",
            "33  12/24/2021   129\n",
            "34  12/25/2021   124\n",
            "35  12/26/2021   139\n",
            "36  12/27/2021   193\n",
            "37  12/28/2021   223\n",
            "38  12/29/2021   276\n",
            "39  12/30/2021   317\n",
            "40  12/31/2021   363\n"
          ]
        }
      ]
    },
    {
      "cell_type": "markdown",
      "source": [
        "(a) La linea de mejor ajuste"
      ],
      "metadata": {
        "id": "CxzN99bA2EUG"
      }
    },
    {
      "cell_type": "code",
      "source": [
        "import numpy as np\n",
        "from numpy.linalg import inv \n",
        "%matplotlib inline\n",
        "import matplotlib.pyplot as plt\n",
        "\n",
        "# x = Dias\n",
        "x=[15,16,17,18,19,20,21,22,23,24,25,26,27,28,29, 30, 31]\n",
        "\n",
        "#Hospitalizados por CoVid\n",
        "hosp = [52, 49, 49, 47, 43, 53, 67, 89, 111, 129, 124, 139, 193, 223, 276, 317, 363]\n",
        "\n",
        "X = np.array([np.ones(len(x)), x]).T\n",
        "a = inv(X.T @ X) @ X.T @ hosp    ### Fórmula para minimizar los cuadrados\n",
        "\n",
        "x_predict = np.linspace(15, 32, num=100)\n",
        "hosp_predict = a[0] + a[1] * x_predict ### Recta \n",
        "\n",
        "plt.scatter(x, hosp)\n",
        "plt.xlabel('Dias'); \n",
        "plt.ylabel('Hospitalizados'); \n",
        "plt.plot(x_predict, hosp_predict, 'c');\n",
        "plt.title('Hospitalización de adultos por COVID en \\n PR del 15 al 31 de diciembre de 2021 \\n Linea de mejor ajuste');"
      ],
      "metadata": {
        "colab": {
          "base_uri": "https://localhost:8080/",
          "height": 325
        },
        "id": "AEhHRXk3oNc8",
        "outputId": "954180e2-69d7-4b2b-f509-2d7b6675dba9"
      },
      "execution_count": null,
      "outputs": [
        {
          "output_type": "display_data",
          "data": {
            "image/png": "[encoded data removed]",
            "text/plain": [
              "<Figure size 432x288 with 1 Axes>"
            ]
          },
          "metadata": {
            "needs_background": "light"
          }
        }
      ]
    },
    {
      "cell_type": "markdown",
      "source": [
        "(b) La cuadratica de mejor ajuste"
      ],
      "metadata": {
        "id": "sXcabBOa2MI8"
      }
    },
    {
      "cell_type": "code",
      "source": [
        "import numpy as np\n",
        "from numpy.linalg import inv \n",
        "%matplotlib inline\n",
        "import matplotlib.pyplot as plt\n",
        "\n",
        "# ajuste polinomial con grado = 2\n",
        "modelo = np.poly1d(np.polyfit(x, hosp, 2))\n",
        "\n",
        "#add linea polinomial ajustada al diagrama de dispersión\n",
        "polilinea = np.linspace(15, 32)\n",
        "plt.scatter(x, hosp)\n",
        "plt.plot(polilinea, modelo(polilinea))\n",
        "plt.xlabel('días'); plt.ylabel('Hosptitalizados')\n",
        "plt.title('Hospitalización de adultos por COVID en \\n PR del 15 al 31 de diciembre de 2021 \\n Linea cuadratica de mejor ajuste');\n",
        "plt.show()"
      ],
      "metadata": {
        "colab": {
          "base_uri": "https://localhost:8080/",
          "height": 325
        },
        "id": "G6fbs5Kw2RjA",
        "outputId": "75b67474-c47c-4e34-daf1-39dd323f316d"
      },
      "execution_count": null,
      "outputs": [
        {
          "output_type": "display_data",
          "data": {
            "image/png": "[encoded data removed]",
            "text/plain": [
              "<Figure size 432x288 with 1 Axes>"
            ]
          },
          "metadata": {
            "needs_background": "light"
          }
        }
      ]
    },
    {
      "cell_type": "markdown",
      "source": [
        "(c) Regresion exponencial"
      ],
      "metadata": {
        "id": "k8ulDMX8793x"
      }
    },
    {
      "cell_type": "code",
      "source": [
        "import numpy as np\n",
        "a = np.array([15,16,17,18,19,20,21,22,23,24,25,26,27,28,29, 30, 31])\n",
        "b = np.array([52, 49, 49, 47, 43, 53, 67, 89, 111, 129, 124, 139, 193, 223, 276, 317, 363])\n",
        "\n",
        "log_a = np.log(a)\n",
        "log_b = np.log(b)\n",
        "\n",
        "coefficients = np.polyfit(a, log_b, 1)\n",
        "print(coefficients)"
      ],
      "metadata": {
        "colab": {
          "base_uri": "https://localhost:8080/"
        },
        "id": "sHOT81Xs2Rbn",
        "outputId": "fa44003e-7ccc-42cf-e068-2364c356915c"
      },
      "execution_count": null,
      "outputs": [
        {
          "output_type": "stream",
          "name": "stdout",
          "text": [
            "[0.1403733  1.43479746]\n"
          ]
        }
      ]
    },
    {
      "cell_type": "code",
      "source": [
        "c = np.exp(1.43479746) * np.exp(0.1403733*a)\n",
        "plt.xlabel('días'); \n",
        "plt.ylabel('Hosptitalizados')\n",
        "plt.title('Hospitalización de adultos por COVID en \\n PR del 15 al 31 de diciembre de 2021 \\n La exponencial de mejor ajuste');\n",
        "plt.plot(a, b, \"o\")\n",
        "plt.plot(a, c)"
      ],
      "metadata": {
        "colab": {
          "base_uri": "https://localhost:8080/",
          "height": 342
        },
        "id": "glMky3uk2Q2v",
        "outputId": "d9804a70-639f-43eb-cbdf-6dc311b19745"
      },
      "execution_count": null,
      "outputs": [
        {
          "output_type": "execute_result",
          "data": {
            "text/plain": [
              "[<matplotlib.lines.Line2D at 0x7fed6ce649d0>]"
            ]
          },
          "metadata": {},
          "execution_count": 13
        },
        {
          "output_type": "display_data",
          "data": {
            "image/png": "[encoded data removed]",
            "text/plain": [
              "<Figure size 432x288 with 1 Axes>"
            ]
          },
          "metadata": {
            "needs_background": "light"
          }
        }
      ]
    },
    {
      "cell_type": "code",
      "source": [
        "import numpy as np\n",
        "import matplotlib.pyplot as plt \n",
        "\n",
        "z=np.arange(8)\n",
        "\n",
        "colors=['red', 'yellow', 'black']\n",
        "\n",
        "plt.gca().set_prop_cycle(color=colors)\n",
        "\n",
        "plt.plot(x_predict, hosp_predict,label=\"Ajuste Lineal\")\n",
        "plt.plot(polilinea, modelo(polilinea),label=\"Ajuste Cuadratico\")\n",
        "plt.plot(a, c, label=\"Ajuste Exponecial\")\n",
        "\n",
        "plt.scatter(x, hosp, label=\"Datos\", color=\"green\")\n",
        "\n",
        "\n",
        "plt.title(\"Hospitalización de adultos por COVID en \\n PR del 15 al 31 de diciembre de 2021\",fontsize=15)\n",
        "plt.xlabel(\"Dias\",fontsize=13)\n",
        "plt.ylabel(\"Hospitalizados\",fontsize=13)\n",
        "plt.legend()\n",
        "plt.show()"
      ],
      "metadata": {
        "colab": {
          "base_uri": "https://localhost:8080/",
          "height": 319
        },
        "id": "mrNLKKMrG8KT",
        "outputId": "79c3fc46-85d6-4bce-bd43-8af28dd797cf"
      },
      "execution_count": null,
      "outputs": [
        {
          "output_type": "display_data",
          "data": {
            "image/png": "[encoded data removed]",
            "text/plain": [
              "<Figure size 432x288 with 1 Axes>"
            ]
          },
          "metadata": {
            "needs_background": "light"
          }
        }
      ]
    },
    {
      "cell_type": "markdown",
      "source": [
        "Discuta las virtudes y defectos de cada modelo y su utilidad para \"predecir\" hospitalizaciones futuras (después del 31 de diciembre).\n",
        "\n",
        "\\\n",
        "\n",
        "En el modelo de la regresion lineal es sencillo de entender, rápido de modelar y es menos propenso al sobreajuste. Ademas, en este caso solo pasa por un punto, es la linea que por menos puntos pasa. Usualmente es un ajuste perfecto, los cambios en los datos raramente afectan a esta regresion lineal. Por otro lado, no se puede modelar relaciones complejas y es propenso a tener valores atípicos. De acuerdo a la razon de cambio de la recta, se puede predecir de que a medida que pasen los dias las hospitalizaciones seguiran aumentando, aunque las predicciones con este modelo ndel todo exactas. \n",
        "\n",
        "\\\n",
        "\n",
        "En el modelo del polinomio cuadratico dista mas puntos por lo que se ajuste mejor a los datos. La dependencia de la curva de los datos no es tan sensible, pero en ciertos puntos puede hacer que la curva sea sensitiva. De acuerdo con la grafica, con este modelo se puede predecir que a medida que pasen los dias las hospitalizaciones seguiran en aumento. Este modelo puede ofrecer predicciones mas exactas, pues toma mas datos.\n",
        "\n",
        "\\\n",
        "\n",
        "El modelo exponencial se puede utilizar para modelar situaciones en donde comienza aumentar lentamente y luego aumenta rápidamente hasta infinito, o donde la comienza disminuir rápidamente y luego se disminuye para aproximarce a cero. Este modelo al igual que el cuadratico dista muchos puntos. Suele ser el mas utilizados en situciones de crecimientos o disminuciones a largo plazo. Aunque parece ser un buen modelo para predecir, este solo muestra un crecimiento o disminuciones, por lo que no seria bueno en este caso utilizarlo para predecir, pues algunos dias las hospitalizaciones pueden bajar.\n",
        "\n",
        "\\\n",
        "\n",
        "Se puede llevar a cabo un modelo de prediccion en python utilizando AI, y calcular la presicion del mismo, pero requiere cierto nivel avanzado en python. "
      ],
      "metadata": {
        "id": "Qf3vDxX4DK-S"
      }
    }
  ]
}